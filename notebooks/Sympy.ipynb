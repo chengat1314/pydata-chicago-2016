{
 "cells": [
  {
   "cell_type": "markdown",
   "metadata": {},
   "source": [
    "# Sympy for checking gradients"
   ]
  },
  {
   "cell_type": "code",
   "execution_count": 1,
   "metadata": {
    "collapsed": true
   },
   "outputs": [],
   "source": [
    "from sympy import symbols, diff, simplify, exp, log"
   ]
  },
  {
   "cell_type": "markdown",
   "metadata": {},
   "source": [
    "### Linear regression"
   ]
  },
  {
   "cell_type": "code",
   "execution_count": 2,
   "metadata": {
    "collapsed": false
   },
   "outputs": [
    {
     "name": "stdout",
     "output_type": "stream",
     "text": [
      "1.0*b0 + 1.0*b1*x1 + 1.0*b2*x2 - 1.0*y\n",
      "1.0*x1*(b0 + b1*x1 + b2*x2 - y)\n",
      "1.0*x2*(b0 + b1*x1 + b2*x2 - y)\n"
     ]
    }
   ],
   "source": [
    "# Define symbols\n",
    "x1, x2, y, b0, b1, b2 = symbols(\"x1 x2 y b0 b1 b2\")\n",
    "\n",
    "# Predict\n",
    "yhat = b0 + b1 * x1 + b2 * x2\n",
    "\n",
    "# Compute loss\n",
    "loss = 0.5 * (y - yhat) ** 2\n",
    "\n",
    "# Differentiate\n",
    "print simplify(diff(loss, b0))\n",
    "print simplify(diff(loss, b1))\n",
    "print simplify(diff(loss, b2))"
   ]
  },
  {
   "cell_type": "markdown",
   "metadata": {},
   "source": [
    "### Logistic Regression"
   ]
  },
  {
   "cell_type": "code",
   "execution_count": 3,
   "metadata": {
    "collapsed": false
   },
   "outputs": [
    {
     "name": "stdout",
     "output_type": "stream",
     "text": [
      "(y*exp(-b0 - b1*x1 - b2*x2) + y - 1)/(exp(-b0 - b1*x1 - b2*x2) + 1)\n",
      "x1*(y*exp(-b0 - b1*x1 - b2*x2) + y - 1)/(exp(-b0 - b1*x1 - b2*x2) + 1)\n",
      "x2*(y*exp(-b0 - b1*x1 - b2*x2) + y - 1)/(exp(-b0 - b1*x1 - b2*x2) + 1)\n"
     ]
    }
   ],
   "source": [
    "# Define symbols\n",
    "x1, x2, y, b0, b1, b2 = symbols(\"x1 x2 y b0 b1 b2\")\n",
    "\n",
    "# Predict\n",
    "z = b0 + b1 * x1 + b2 * x2\n",
    "yhat = 1 / (1 + exp(-z))\n",
    "\n",
    "# Compute loss\n",
    "loss = y * log(yhat) + (1 - y) * log(1 - yhat)\n",
    "\n",
    "# Differentiate\n",
    "print simplify(diff(loss, b0))\n",
    "print simplify(diff(loss, b1))\n",
    "print simplify(diff(loss, b2))\n"
   ]
  }
 ],
 "metadata": {
  "kernelspec": {
   "display_name": "Python 2",
   "language": "python",
   "name": "python2"
  },
  "language_info": {
   "codemirror_mode": {
    "name": "ipython",
    "version": 2
   },
   "file_extension": ".py",
   "mimetype": "text/x-python",
   "name": "python",
   "nbconvert_exporter": "python",
   "pygments_lexer": "ipython2",
   "version": "2.7.11"
  }
 },
 "nbformat": 4,
 "nbformat_minor": 0
}
