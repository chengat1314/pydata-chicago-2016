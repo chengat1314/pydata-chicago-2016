{
 "cells": [
  {
   "cell_type": "markdown",
   "metadata": {},
   "source": [
    "# Gradient vs. Newton step"
   ]
  },
  {
   "cell_type": "code",
   "execution_count": 3,
   "metadata": {
    "collapsed": false
   },
   "outputs": [
    {
     "name": "stderr",
     "output_type": "stream",
     "text": [
      "/Users/pavanramkumar/anaconda/lib/python2.7/site-packages/matplotlib/font_manager.py:273: UserWarning: Matplotlib is building the font cache using fc-list. This may take a moment.\n",
      "  warnings.warn('Matplotlib is building the font cache using fc-list. This may take a moment.')\n"
     ]
    }
   ],
   "source": [
    "import numpy as np\n",
    "import matplotlib.pyplot as plt\n",
    "% matplotlib inline"
   ]
  },
  {
   "cell_type": "code",
   "execution_count": 4,
   "metadata": {
    "collapsed": true
   },
   "outputs": [],
   "source": [
    "def simpleaxis(ax):\n",
    "    ax.spines['top'].set_visible(False)\n",
    "    ax.spines['right'].set_visible(False)\n",
    "    ax.get_xaxis().tick_bottom()\n",
    "    ax.get_yaxis().tick_left()\n",
    "    ax.tick_params(labelsize=14)"
   ]
  },
  {
   "cell_type": "markdown",
   "metadata": {},
   "source": [
    "### Compare two functions: $y = x^2$ and $y = x^6$"
   ]
  },
  {
   "cell_type": "code",
   "execution_count": 38,
   "metadata": {
    "collapsed": false
   },
   "outputs": [
    {
     "data": {
      "image/png": "[encoded data removed]",
      "text/plain": [
       "<matplotlib.figure.Figure at 0x10a824bd0>"
      ]
     },
     "metadata": {},
     "output_type": "display_data"
    }
   ],
   "source": [
    "x = np.linspace(-1, 1, 100)\n",
    "y1 = x ** 2\n",
    "y2 = x ** 6\n",
    "\n",
    "plt.figure(figsize=(7,6))\n",
    "ax = plt.subplot(111)\n",
    "simpleaxis(ax)\n",
    "plt.plot(x, y1, 'k', alpha=0.5, lw=2)\n",
    "plt.plot(x, y2, 'g', alpha=0.5, lw=2)\n",
    "plt.plot(-0.25, 0.25 ** 2, 'ko', alpha=0.5, lw=2)\n",
    "plt.plot(-0.25, 0.25 ** 4, 'go', alpha=0.5, lw=2)\n",
    "plt.ylim([-0.1, 0.4])\n",
    "plt.legend(['$y = x^2$', '$y = x^6$'], frameon=False, fontsize=16, loc='upper center')\n",
    "plt.show()"
   ]
  },
  {
   "cell_type": "markdown",
   "metadata": {},
   "source": [
    "Let's consider $x_0 = -0.25$."
   ]
  },
  {
   "cell_type": "markdown",
   "metadata": {},
   "source": [
    "### Gradient step"
   ]
  },
  {
   "cell_type": "markdown",
   "metadata": {},
   "source": [
    "For $y = x^2$, the gradient $y'(x_0) = 2x_0 = -0.5$.\n",
    "\n",
    "For $y = x^6$, the gradient $y'(x_0) = 6x_0^5 = -0.0002$."
   ]
  },
  {
   "cell_type": "markdown",
   "metadata": {},
   "source": [
    "For a learning rate of $\\zeta = 0.1$, the corresponding steps are:\n",
    "\n",
    "$0.05$ for $y = x^2$ and $0.00002$ for $y = x^6$.\n",
    "\n",
    "Thus, even though $x_0$ is the same distance away from the minimum $x^* = 0$ in both functions, we take an extremely small step for $y = x^6$."
   ]
  },
  {
   "cell_type": "markdown",
   "metadata": {},
   "source": [
    "### Newton step"
   ]
  },
  {
   "cell_type": "markdown",
   "metadata": {},
   "source": [
    "#### Gradients\n",
    "For $y = x^2$, the gradient $y'(x_0) = 2x_0 = -0.5$.\n",
    "\n",
    "For $y = x^6$, the gradient $y'(x_0) = 6x_0^5 = -0.0002$.\n",
    "\n",
    "#### Second derivatives\n",
    "For $y = x^2$, the second derivative $y''(x_0) = 2$.\n",
    "\n",
    "For $y = x^6$, the second derivative $y''(x_0) = 30x_0^4 = 0.117$.\n",
    "\n"
   ]
  },
  {
   "cell_type": "markdown",
   "metadata": {},
   "source": [
    "The corresponding steps are:\n",
    "\n",
    "$0.25$ for $y = x^2$ and $0.001$ for $y = x^6$.\n",
    "\n",
    "Thus, the Newton step takes the local curvaturve into account. It proposes larger steps for regions that are relatively flat and smaller steps for regions where the curvature is high. "
   ]
  }
 ],
 "metadata": {
  "kernelspec": {
   "display_name": "Python 2",
   "language": "python",
   "name": "python2"
  },
  "language_info": {
   "codemirror_mode": {
    "name": "ipython",
    "version": 2
   },
   "file_extension": ".py",
   "mimetype": "text/x-python",
   "name": "python",
   "nbconvert_exporter": "python",
   "pygments_lexer": "ipython2",
   "version": "2.7.11"
  }
 },
 "nbformat": 4,
 "nbformat_minor": 0
}
